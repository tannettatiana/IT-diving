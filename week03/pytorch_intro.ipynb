{
  "cells": [
    {
      "cell_type": "markdown",
      "id": "cffdd5d6-3712-45d2-b5c0-cbb48b5f377d",
      "metadata": {
        "id": "cffdd5d6-3712-45d2-b5c0-cbb48b5f377d"
      },
      "source": [
        "# Введение в Pytorch\n",
        "\n",
        "Авторы: Гирдюк Дмитрий, Никольская Анастасия"
      ]
    },
    {
      "cell_type": "code",
      "execution_count": 1,
      "id": "d4878b7f-9731-425e-bce7-6e52fe802a89",
      "metadata": {
        "id": "d4878b7f-9731-425e-bce7-6e52fe802a89"
      },
      "outputs": [],
      "source": [
        "import numpy as np\n",
        "import pandas as pd\n",
        "import torch"
      ]
    },
    {
      "cell_type": "markdown",
      "id": "9ccba7cf-7c67-4951-af13-b1c88d208d58",
      "metadata": {
        "id": "9ccba7cf-7c67-4951-af13-b1c88d208d58"
      },
      "source": [
        "## Тензоры"
      ]
    },
    {
      "cell_type": "markdown",
      "id": "97992fb5-2eb1-4c17-b4b7-294d2b3462cc",
      "metadata": {
        "id": "97992fb5-2eb1-4c17-b4b7-294d2b3462cc"
      },
      "source": [
        "### Инициализация"
      ]
    },
    {
      "cell_type": "code",
      "execution_count": null,
      "id": "9fe4370f-9a7f-49b0-abf9-3e9d34c9e208",
      "metadata": {
        "id": "9fe4370f-9a7f-49b0-abf9-3e9d34c9e208"
      },
      "outputs": [],
      "source": [
        "data = [[1, 2], [3, 4]]\n",
        "tensor_data = torch.tensor(data)  # infer types\n",
        "print(tensor_data, tensor_data.dtype, sep=\"\\n\")"
      ]
    },
    {
      "cell_type": "code",
      "execution_count": null,
      "id": "53127563-da44-48d1-b1ae-2ce14d6eb674",
      "metadata": {
        "id": "53127563-da44-48d1-b1ae-2ce14d6eb674"
      },
      "outputs": [],
      "source": [
        "data_np = np.array(data)  # , dtype=np.int64\n",
        "tensor_np = torch.from_numpy(data_np)\n",
        "print(tensor_np, tensor_np.dtype, data_np.dtype, sep=\"\\n\")"
      ]
    },
    {
      "cell_type": "code",
      "execution_count": null,
      "id": "080f0c72-b092-43e4-a14a-923295003330",
      "metadata": {
        "id": "080f0c72-b092-43e4-a14a-923295003330"
      },
      "outputs": [],
      "source": [
        "tensor_ones = torch.ones_like(tensor_np) # retains the properties of x_data\n",
        "print(tensor_ones, tensor_ones.dtype)\n",
        "\n",
        "tensor_rand = torch.rand_like(tensor_np, dtype=torch.float)  # remove dtype\n",
        "print(tensor_rand, tensor_rand.dtype)"
      ]
    },
    {
      "cell_type": "code",
      "execution_count": null,
      "id": "54363c49-ebb7-4660-8b4d-764d8a187030",
      "metadata": {
        "id": "54363c49-ebb7-4660-8b4d-764d8a187030"
      },
      "outputs": [],
      "source": [
        "shape = (2, 3)\n",
        "tensor_rand = torch.rand(shape)\n",
        "tensor_ones = torch.ones(shape)\n",
        "tensor_zeros = torch.zeros(shape)\n",
        "\n",
        "print(tensor_rand, tensor_ones, tensor_zeros, sep=\"\\n\")"
      ]
    },
    {
      "cell_type": "code",
      "execution_count": null,
      "id": "d850489b-0939-41f1-8dac-7a7868738279",
      "metadata": {
        "id": "d850489b-0939-41f1-8dac-7a7868738279"
      },
      "outputs": [],
      "source": [
        "tensor_ones.to(torch.int16)"
      ]
    },
    {
      "cell_type": "markdown",
      "id": "c925369f-0a38-4803-9ba8-3493c579fd89",
      "metadata": {
        "id": "c925369f-0a38-4803-9ba8-3493c579fd89"
      },
      "source": [
        "Типы данных: https://pytorch.org/docs/stable/tensors.html#data-types\n",
        "\n",
        "Документация по способам создания тензоров: https://pytorch.org/docs/stable/torch.html#creation-ops"
      ]
    },
    {
      "cell_type": "markdown",
      "id": "feeca298-8fcb-4cf7-8fbe-4c80b5ea70dd",
      "metadata": {
        "id": "feeca298-8fcb-4cf7-8fbe-4c80b5ea70dd"
      },
      "source": [
        "### Основные аттрибуты"
      ]
    },
    {
      "cell_type": "code",
      "execution_count": null,
      "id": "003262a5-d58d-4d6e-b83e-debed574e47f",
      "metadata": {
        "id": "003262a5-d58d-4d6e-b83e-debed574e47f"
      },
      "outputs": [],
      "source": [
        "print(tensor_ones.shape, tensor_ones.dtype, tensor_ones.device)"
      ]
    },
    {
      "cell_type": "markdown",
      "id": "3242c7fe-9908-4803-8c87-f02d88a32b55",
      "metadata": {
        "id": "3242c7fe-9908-4803-8c87-f02d88a32b55"
      },
      "source": [
        "### GPU!"
      ]
    },
    {
      "cell_type": "code",
      "execution_count": null,
      "id": "45cc19ec-a05d-4fff-8648-34b32fefe55e",
      "metadata": {
        "id": "45cc19ec-a05d-4fff-8648-34b32fefe55e"
      },
      "outputs": [],
      "source": [
        "device = \"cuda\" if torch.cuda.is_available() else \"cpu\"  # \"cuda:0\"\n",
        "tensor_ones.to(device)"
      ]
    },
    {
      "cell_type": "markdown",
      "id": "82721bad-5a55-4633-886f-bbf713846b3e",
      "metadata": {
        "id": "82721bad-5a55-4633-886f-bbf713846b3e"
      },
      "source": [
        "### Индексация, слайсы, етц."
      ]
    },
    {
      "cell_type": "code",
      "execution_count": null,
      "id": "419954f6-fafb-4e23-ae2f-61d6e6dfdde6",
      "metadata": {
        "id": "419954f6-fafb-4e23-ae2f-61d6e6dfdde6"
      },
      "outputs": [],
      "source": [
        "tensor = torch.rand(3, 5)\n",
        "tensor, tensor.shape"
      ]
    },
    {
      "cell_type": "code",
      "execution_count": null,
      "id": "805f3e74-fdf0-4480-80e4-f3ba61f03cba",
      "metadata": {
        "id": "805f3e74-fdf0-4480-80e4-f3ba61f03cba"
      },
      "outputs": [],
      "source": [
        "tensor[0]"
      ]
    },
    {
      "cell_type": "code",
      "execution_count": null,
      "id": "5421a617-2423-45e5-9bb7-81bac6f144dc",
      "metadata": {
        "id": "5421a617-2423-45e5-9bb7-81bac6f144dc"
      },
      "outputs": [],
      "source": [
        "tensor[:, 0]"
      ]
    },
    {
      "cell_type": "code",
      "execution_count": null,
      "id": "1c4c64fb-468f-4c5e-a9b4-986dbcb3c8ee",
      "metadata": {
        "id": "1c4c64fb-468f-4c5e-a9b4-986dbcb3c8ee"
      },
      "outputs": [],
      "source": [
        "tensor[:2, :3]"
      ]
    },
    {
      "cell_type": "code",
      "execution_count": null,
      "id": "6f415d1d-e478-4366-9c53-3f83ded77bc5",
      "metadata": {
        "id": "6f415d1d-e478-4366-9c53-3f83ded77bc5"
      },
      "outputs": [],
      "source": [
        "tensor.reshape(-1, 3)"
      ]
    },
    {
      "cell_type": "code",
      "execution_count": null,
      "id": "df0714dc-034e-4277-a162-b954ecec8fcc",
      "metadata": {
        "id": "df0714dc-034e-4277-a162-b954ecec8fcc"
      },
      "outputs": [],
      "source": [
        "tensor.reshape(-1, 3).reshape(3, 5)"
      ]
    },
    {
      "cell_type": "code",
      "execution_count": null,
      "id": "55f9112c-1393-4a5e-84e8-c86a70bbbeb0",
      "metadata": {
        "id": "55f9112c-1393-4a5e-84e8-c86a70bbbeb0"
      },
      "outputs": [],
      "source": [
        "tensor_unsqueezed = tensor.unsqueeze(-1)\n",
        "tensor_unsqueezed, tensor_unsqueezed.shape"
      ]
    },
    {
      "cell_type": "code",
      "execution_count": null,
      "id": "ac615dab-f61d-49ec-8039-d380c3cd20de",
      "metadata": {
        "id": "ac615dab-f61d-49ec-8039-d380c3cd20de"
      },
      "outputs": [],
      "source": [
        "tensor_squeezed = tensor_unsqueezed.squeeze(-1)\n",
        "tensor_squeezed, tensor_squeezed.shape"
      ]
    },
    {
      "cell_type": "markdown",
      "id": "3a235bce-77d9-4dbf-89b5-12a06be23aae",
      "metadata": {
        "id": "3a235bce-77d9-4dbf-89b5-12a06be23aae"
      },
      "source": [
        "### Основные операции\n",
        "\n",
        "Операций больше сотни. Все работают и на GPU. Подробный список в документации: https://pytorch.org/docs/stable/torch.html\n",
        "\n",
        "Если помните, как работать с numpy-массивами, проблем с адаптацией быть не должно."
      ]
    },
    {
      "cell_type": "code",
      "execution_count": null,
      "id": "7ba695f5-bb4f-4d05-bf28-270efe4bf5c0",
      "metadata": {
        "id": "7ba695f5-bb4f-4d05-bf28-270efe4bf5c0"
      },
      "outputs": [],
      "source": [
        "tensor_cat = torch.cat([tensor_rand, tensor_ones, tensor_zeros], dim=1)\n",
        "tensor_cat"
      ]
    },
    {
      "cell_type": "code",
      "execution_count": null,
      "id": "9ec23dc2-ff0d-4b60-a0dc-1fbb54c0d582",
      "metadata": {
        "id": "9ec23dc2-ff0d-4b60-a0dc-1fbb54c0d582"
      },
      "outputs": [],
      "source": [
        "tensor_rand + tensor_ones"
      ]
    },
    {
      "cell_type": "code",
      "execution_count": null,
      "id": "2cae545a-1169-4b0b-be1e-1095c1d8d983",
      "metadata": {
        "id": "2cae545a-1169-4b0b-be1e-1095c1d8d983"
      },
      "outputs": [],
      "source": [
        "tensor_rand * tensor_zeros"
      ]
    },
    {
      "cell_type": "code",
      "execution_count": null,
      "id": "0f57e397-d190-4d24-8a0b-8620fd553d29",
      "metadata": {
        "id": "0f57e397-d190-4d24-8a0b-8620fd553d29"
      },
      "outputs": [],
      "source": [
        "tensor_rand @ tensor_ones.T"
      ]
    },
    {
      "cell_type": "code",
      "execution_count": null,
      "id": "3ab4a7fb-02f7-4b6b-96d9-0af2e3addfc5",
      "metadata": {
        "id": "3ab4a7fb-02f7-4b6b-96d9-0af2e3addfc5"
      },
      "outputs": [],
      "source": [
        "torch.matmul(tensor_rand, tensor_ones.T)"
      ]
    },
    {
      "cell_type": "code",
      "execution_count": null,
      "id": "35cd0739-d0e5-4c34-83df-18ebcd0125c2",
      "metadata": {
        "id": "35cd0739-d0e5-4c34-83df-18ebcd0125c2"
      },
      "outputs": [],
      "source": [
        "tensor_rand.sum(), tensor_rand.sum().item()"
      ]
    },
    {
      "cell_type": "code",
      "execution_count": null,
      "id": "846e6349-2245-4499-8316-e411d4a4f081",
      "metadata": {
        "id": "846e6349-2245-4499-8316-e411d4a4f081"
      },
      "outputs": [],
      "source": [
        "tensor_rand.add_(1)  # inplace"
      ]
    },
    {
      "cell_type": "code",
      "execution_count": null,
      "id": "f9de3020-daaf-4c71-af7e-487de8118864",
      "metadata": {
        "id": "f9de3020-daaf-4c71-af7e-487de8118864"
      },
      "outputs": [],
      "source": [
        "tensor_rand.numpy()"
      ]
    },
    {
      "cell_type": "markdown",
      "id": "f1abc8e0-0d24-4dbf-8c5b-022d95a86dda",
      "metadata": {
        "id": "f1abc8e0-0d24-4dbf-8c5b-022d95a86dda"
      },
      "source": [
        "Тензоры в массивах на CPU и numpy-массивы связаны, указывают на те же самые ячейки в памяти. Изменение одного приведет к изменению другого, и наоборот."
      ]
    },
    {
      "cell_type": "code",
      "execution_count": null,
      "id": "1e26630e-c932-483c-9cb4-23e40ecdc927",
      "metadata": {
        "id": "1e26630e-c932-483c-9cb4-23e40ecdc927"
      },
      "outputs": [],
      "source": [
        "tensor_rand_np = tensor_rand.numpy()\n",
        "tensor_rand_np += 1.0\n",
        "tensor_rand_np, tensor_rand"
      ]
    },
    {
      "cell_type": "markdown",
      "id": "784c823c-21b0-44fb-8b4b-e1479df392e5",
      "metadata": {
        "id": "784c823c-21b0-44fb-8b4b-e1479df392e5"
      },
      "source": [
        "## Dataset и Dataloader"
      ]
    },
    {
      "cell_type": "markdown",
      "id": "a6d53e0c-d21a-4260-b019-22c6061fb9cc",
      "metadata": {
        "id": "a6d53e0c-d21a-4260-b019-22c6061fb9cc"
      },
      "source": [
        "PyTorch предоставляет две абстракции для данных: torch.utils.data.Dataset и torch.utils.data.DataLoader. В Dataset хранятся сами данные (фичи, изображения, текст и др.) и значения целевой переменной/метки/таргеты/другие изображения/текст и т.д. А DataLoader оборачивает набор данных в так называемый iterable (русский аналог?), и позволяет итерироваться по датасету.\n",
        "\n",
        "В торче и связанных с ним библиотеках хватает готовых датасетов. Рассмотрим датасет и даталоадер и использованием FashionMNIST."
      ]
    },
    {
      "cell_type": "code",
      "execution_count": null,
      "id": "b5330ed0-8af1-41b8-bea8-89829d754f58",
      "metadata": {
        "id": "b5330ed0-8af1-41b8-bea8-89829d754f58"
      },
      "outputs": [],
      "source": [
        "from matplotlib import pyplot as plt\n",
        "from torch.utils.data import DataLoader, Dataset\n",
        "from torchvision import datasets\n",
        "from torchvision.transforms import ToTensor"
      ]
    },
    {
      "cell_type": "code",
      "execution_count": null,
      "id": "d5f057bd-99cc-4053-86a5-af4feaa556be",
      "metadata": {
        "id": "d5f057bd-99cc-4053-86a5-af4feaa556be"
      },
      "outputs": [],
      "source": [
        "train_dataset = datasets.FashionMNIST(\n",
        "    root=\"data\",\n",
        "    train=True,\n",
        "    download=True,\n",
        "    transform=ToTensor(),\n",
        ")\n",
        "\n",
        "test_dataset = datasets.FashionMNIST(\n",
        "    root=\"data\",\n",
        "    train=False,\n",
        "    download=True,\n",
        "    transform=ToTensor(),\n",
        ")\n",
        "\n",
        "labels_map = {\n",
        "    0: \"T-Shirt\",\n",
        "    1: \"Trouser\",\n",
        "    2: \"Pullover\",\n",
        "    3: \"Dress\",\n",
        "    4: \"Coat\",\n",
        "    5: \"Sandal\",\n",
        "    6: \"Shirt\",\n",
        "    7: \"Sneaker\",\n",
        "    8: \"Bag\",\n",
        "    9: \"Ankle Boot\",\n",
        "}"
      ]
    },
    {
      "cell_type": "code",
      "execution_count": null,
      "id": "ab3ce2ed-6762-462a-9637-0eef3f049d86",
      "metadata": {
        "id": "ab3ce2ed-6762-462a-9637-0eef3f049d86"
      },
      "outputs": [],
      "source": [
        "def show_fashion_plots(\n",
        "    dataset: Dataset, labels_map: dict[int, str], cols: int = 3, rows: int = 3\n",
        ") -> None:\n",
        "    figure = plt.figure(figsize=(8, 8))\n",
        "    for i in range(1, cols * rows + 1):\n",
        "        sample_idx = torch.randint(len(dataset), size=(1,)).item()\n",
        "        img, label = dataset[sample_idx]\n",
        "        figure.add_subplot(rows, cols, i)\n",
        "        if type(label) == torch.Tensor:\n",
        "            plt.title(labels_map[label.item()])\n",
        "        else:\n",
        "            plt.title(labels_map[label])\n",
        "        plt.axis(\"off\")\n",
        "        plt.imshow(img.squeeze(), cmap=\"gray\")\n",
        "\n",
        "    plt.show()"
      ]
    },
    {
      "cell_type": "code",
      "execution_count": null,
      "id": "c4f1a96c-3ba8-4932-a9e9-adfbb7cd0d9c",
      "metadata": {
        "id": "c4f1a96c-3ba8-4932-a9e9-adfbb7cd0d9c"
      },
      "outputs": [],
      "source": [
        "show_fashion_plots(train_dataset, labels_map=labels_map)"
      ]
    },
    {
      "cell_type": "markdown",
      "id": "3f1d4a9c-048f-4d4a-82de-02cefc0079f2",
      "metadata": {
        "id": "3f1d4a9c-048f-4d4a-82de-02cefc0079f2"
      },
      "source": [
        "Хорошо, как нам реализовать датасет для собственных нужд? Наследуемся от Dataset (или его потомков), и реализуем методы \\_\\_len\\_\\_ и \\_\\_getitem\\_\\_."
      ]
    },
    {
      "cell_type": "code",
      "execution_count": null,
      "id": "b0d4757e-2480-441b-a78d-0c7a70cfb796",
      "metadata": {
        "id": "b0d4757e-2480-441b-a78d-0c7a70cfb796"
      },
      "outputs": [],
      "source": [
        "from os.path import join as pjoin\n",
        "from typing import Callable\n",
        "\n",
        "from torchvision.datasets.mnist import read_image_file, read_label_file\n",
        "from torchvision.io import read_image\n",
        "\n",
        "\n",
        "class CustomFashionMNISTDataset(Dataset):\n",
        "    def __init__(\n",
        "        self,\n",
        "        root: str,\n",
        "        train: bool = True,\n",
        "        transform: Callable | None = None,\n",
        "        target_transform: Callable | None = None,\n",
        "    ) -> None:\n",
        "        self.train = train\n",
        "        self.transform = transform\n",
        "        self.target_transform = target_transform\n",
        "\n",
        "        images_file = f\"{'train' if self.train else 't10k'}-images-idx3-ubyte\"\n",
        "        labels_file = f\"{'train' if self.train else 't10k'}-labels-idx1-ubyte\"\n",
        "\n",
        "        self._data = read_image_file(pjoin(root, images_file))\n",
        "        self._targets = read_label_file(pjoin(root, labels_file))\n",
        "\n",
        "    def __len__(self) -> int:\n",
        "        return len(self._data)\n",
        "\n",
        "    def __getitem__(self, idx) -> tuple[torch.Tensor, int]:\n",
        "        image = self._data[idx]\n",
        "        label = self._targets[idx]\n",
        "\n",
        "        if self.transform:\n",
        "            image = self.transform(image)\n",
        "\n",
        "        if self.target_transform:\n",
        "            label = self.target_transform(label)\n",
        "\n",
        "        return image, label"
      ]
    },
    {
      "cell_type": "code",
      "execution_count": null,
      "id": "1d31b11f-63de-4c1b-8494-251b87e09e79",
      "metadata": {
        "id": "1d31b11f-63de-4c1b-8494-251b87e09e79"
      },
      "outputs": [],
      "source": [
        "custom_train_dataset = CustomFashionMNISTDataset(root=pjoin(\"data\", \"FashionMNIST\", \"raw\"), train=True)\n",
        "custom_test_dataset = CustomFashionMNISTDataset(root=pjoin(\"data\", \"FashionMNIST\", \"raw\"), train=False)"
      ]
    },
    {
      "cell_type": "code",
      "execution_count": null,
      "id": "d7d98c5c-9724-40d2-a04f-77ba756a23c5",
      "metadata": {
        "id": "d7d98c5c-9724-40d2-a04f-77ba756a23c5"
      },
      "outputs": [],
      "source": [
        "show_fashion_plots(custom_train_dataset, labels_map=labels_map)"
      ]
    },
    {
      "cell_type": "markdown",
      "id": "fc550d2d-f622-4ef0-ab8f-26ddb10a6be5",
      "metadata": {
        "id": "fc550d2d-f622-4ef0-ab8f-26ddb10a6be5"
      },
      "source": [
        "Наконец, оборачиваем датасет даталоадером"
      ]
    },
    {
      "cell_type": "code",
      "execution_count": null,
      "id": "eae8f87b-17e2-4d09-ba30-8d9e1ff8f8f3",
      "metadata": {
        "id": "eae8f87b-17e2-4d09-ba30-8d9e1ff8f8f3"
      },
      "outputs": [],
      "source": [
        "train_dataloader = DataLoader(train_dataset, batch_size=64, num_workers=0, shuffle=True)\n",
        "test_dataloader = DataLoader(test_dataset, batch_size=64, num_workers=0, shuffle=True)"
      ]
    },
    {
      "cell_type": "code",
      "execution_count": null,
      "id": "c3255313-116b-4114-8c25-9e3e5d2b48bc",
      "metadata": {
        "id": "c3255313-116b-4114-8c25-9e3e5d2b48bc"
      },
      "outputs": [],
      "source": [
        "train_features, train_labels = next(iter(train_dataloader))\n",
        "print(f\"Feature batch shape: {train_features.size()}\")\n",
        "print(f\"Labels batch shape: {train_labels.size()}\")\n",
        "\n",
        "img = train_features[0].squeeze()\n",
        "label = train_labels[0]\n",
        "plt.imshow(img, cmap=\"gray\")\n",
        "plt.title(f\"Label: {label}\")\n",
        "plt.show()"
      ]
    },
    {
      "cell_type": "markdown",
      "id": "51ca00ce-185b-4cab-a0a5-f7034af297aa",
      "metadata": {
        "id": "51ca00ce-185b-4cab-a0a5-f7034af297aa"
      },
      "source": [
        "Подробнее про модуль torch.utils.data в дкоументации: https://pytorch.org/docs/stable/data.html"
      ]
    },
    {
      "cell_type": "markdown",
      "id": "e23e4075-eebb-4309-ad2e-7f7a44a90ae7",
      "metadata": {
        "id": "e23e4075-eebb-4309-ad2e-7f7a44a90ae7"
      },
      "source": [
        "## Module"
      ]
    },
    {
      "cell_type": "markdown",
      "id": "7baa8635-d55e-4a45-b1f6-13acd24c0605",
      "metadata": {
        "id": "7baa8635-d55e-4a45-b1f6-13acd24c0605"
      },
      "source": [
        "Нейронные сети состоят из слоев/модулей, которые выполняют операции с данными. Пространство имен torch.nn предоставляет все строительные блоки, необходимые для создания собственной нейронной сети. Каждый модуль в pytorch является подклассом nn.Module. Нейронная сеть — это сам модуль, состоящий из других модулей (слоев)."
      ]
    },
    {
      "cell_type": "code",
      "execution_count": null,
      "id": "0442eeb1-f0d4-4fd4-9d50-d24aaa1bf301",
      "metadata": {
        "id": "0442eeb1-f0d4-4fd4-9d50-d24aaa1bf301"
      },
      "outputs": [],
      "source": [
        "from torch import nn\n",
        "from torchvision import datasets, transforms"
      ]
    },
    {
      "cell_type": "code",
      "execution_count": null,
      "id": "d34e7a0d-e044-4fd8-a235-64614d253a97",
      "metadata": {
        "id": "d34e7a0d-e044-4fd8-a235-64614d253a97"
      },
      "outputs": [],
      "source": [
        "class NeuralNetwork(nn.Module):\n",
        "    def __init__(self) -> None:\n",
        "        super().__init__()\n",
        "\n",
        "        self.flatten = nn.Flatten()  # векторизация изображения-матрицы\n",
        "        self.linear_relu_stack = nn.Sequential(  # контейнер для модулей\n",
        "            nn.Linear(  # линейная трансформация, bias=True on default\n",
        "                in_features=28 * 28,\n",
        "                out_features=512,\n",
        "                bias=True\n",
        "            ),\n",
        "            nn.ReLU(),  # нелинейная функция активации\n",
        "            nn.Linear(512, 512),\n",
        "            nn.ReLU(),\n",
        "            nn.Linear(512, 10),\n",
        "        )\n",
        "\n",
        "    def forward(  # основной метод, связывающий инициализированные слои в вычислительный граф\n",
        "        self, x: torch.LongTensor\n",
        "    ) -> torch.FloatTensor:\n",
        "        x = self.flatten(x)\n",
        "        logits = self.linear_relu_stack(x)\n",
        "        return logits"
      ]
    },
    {
      "cell_type": "code",
      "execution_count": null,
      "id": "f9d26098-9b73-4ac1-906e-252a89ef8d66",
      "metadata": {
        "id": "f9d26098-9b73-4ac1-906e-252a89ef8d66"
      },
      "outputs": [],
      "source": [
        "model = NeuralNetwork().to(device)\n",
        "print(model)"
      ]
    },
    {
      "cell_type": "code",
      "execution_count": null,
      "id": "0ebb72eb-2a1d-46c8-a757-48f300efeee1",
      "metadata": {
        "id": "0ebb72eb-2a1d-46c8-a757-48f300efeee1"
      },
      "outputs": [],
      "source": [
        "logits = model(train_features.to(device))\n",
        "pred_probas = nn.Softmax(dim=1)(logits)  # софтмакс, было ведь, ну было в прошлом семестре!\n",
        "y_pred = pred_probas.argmax(1)\n",
        "y_pred"
      ]
    },
    {
      "cell_type": "code",
      "execution_count": null,
      "id": "d9be11a3-c776-47ae-b61f-a767347fab6a",
      "metadata": {
        "id": "d9be11a3-c776-47ae-b61f-a767347fab6a"
      },
      "outputs": [],
      "source": [
        "for name, param in model.named_parameters():\n",
        "    print(f\"Layer: {name}\", f\"Size: {param.size()}\", f\"Values : {param[:2]}\", sep=\"\\n\", end=\"\\n\\n\")"
      ]
    },
    {
      "cell_type": "markdown",
      "id": "12ac1f8e-c7cb-4f79-9568-5487d9c8bd7f",
      "metadata": {
        "id": "12ac1f8e-c7cb-4f79-9568-5487d9c8bd7f"
      },
      "source": [
        "## Автоматическое дифференцирование"
      ]
    },
    {
      "cell_type": "markdown",
      "id": "7fecbb1a-3cb0-418c-8590-67c25b55f72d",
      "metadata": {
        "id": "7fecbb1a-3cb0-418c-8590-67c25b55f72d"
      },
      "source": [
        "Для вычисления градиентов в pytorch реализован движок для автоматического дифференцирования вычислительных графов."
      ]
    },
    {
      "cell_type": "code",
      "execution_count": null,
      "id": "68752b42-756c-417d-a3f0-0be60eecebf2",
      "metadata": {
        "id": "68752b42-756c-417d-a3f0-0be60eecebf2"
      },
      "outputs": [],
      "source": [
        "x = torch.ones(5)\n",
        "y = torch.zeros(3)\n",
        "w = torch.randn(5, 3, requires_grad=True)\n",
        "b = torch.randn(3, requires_grad=True)\n",
        "z = torch.matmul(x, w) + b\n",
        "loss = torch.nn.functional.binary_cross_entropy_with_logits(z, y)"
      ]
    },
    {
      "cell_type": "code",
      "execution_count": null,
      "id": "45a0f34c-7259-4a76-9eb4-2d55de907995",
      "metadata": {
        "id": "45a0f34c-7259-4a76-9eb4-2d55de907995"
      },
      "outputs": [],
      "source": [
        "print(z)\n",
        "print(loss)"
      ]
    },
    {
      "cell_type": "markdown",
      "id": "d1898c79-3478-4263-94c0-9189ef8189c9",
      "metadata": {
        "id": "d1898c79-3478-4263-94c0-9189ef8189c9"
      },
      "source": [
        "Пример выше -- однослойная нейронная сеть. Параметры _w_ и _b_ можно соптимизировать на основе имеющейся выборки. Обычно у нас на выходе есть некоторая лосс-функция, численно выражающая то, насколько хорошо наша модель справляется с поставленной задачей. Ее градиент по параметрам позволяет произвести эту оптимизацию.\n",
        "\n",
        "Когда мы производим всевозможные манипуляции с тензорами (forward), за фасадом создается вычислительный граф, на основе которого могут быть вычислены производные. Получаем значение лосс-функции -> последовательно вычисляем ее градиент по параметрам в графе (backward)."
      ]
    },
    {
      "cell_type": "code",
      "execution_count": null,
      "id": "6998c45c-5da2-4e57-8ef9-17fef590e5d7",
      "metadata": {
        "id": "6998c45c-5da2-4e57-8ef9-17fef590e5d7"
      },
      "outputs": [],
      "source": [
        "print(w.grad)\n",
        "print(b.grad)"
      ]
    },
    {
      "cell_type": "code",
      "execution_count": null,
      "id": "79c61477-2b48-428a-9175-62db4f981348",
      "metadata": {
        "id": "79c61477-2b48-428a-9175-62db4f981348"
      },
      "outputs": [],
      "source": [
        "loss.backward()"
      ]
    },
    {
      "cell_type": "code",
      "execution_count": null,
      "id": "fc997bcf-8357-4d7a-a86c-0bab373b8b00",
      "metadata": {
        "id": "fc997bcf-8357-4d7a-a86c-0bab373b8b00"
      },
      "outputs": [],
      "source": [
        "print(w.grad)\n",
        "print(b.grad)"
      ]
    },
    {
      "cell_type": "markdown",
      "id": "97cefe38-4a8d-41fe-bd73-837661f50769",
      "metadata": {
        "id": "97cefe38-4a8d-41fe-bd73-837661f50769"
      },
      "source": [
        "А что для промежуточных вершин графа?"
      ]
    },
    {
      "cell_type": "code",
      "execution_count": null,
      "id": "b6b710d4-6dd4-4522-9957-816957ef9590",
      "metadata": {
        "id": "b6b710d4-6dd4-4522-9957-816957ef9590"
      },
      "outputs": [],
      "source": [
        "z.grad"
      ]
    },
    {
      "cell_type": "markdown",
      "id": "ff36c935-f70c-45d7-acac-659a7156adac",
      "metadata": {
        "id": "ff36c935-f70c-45d7-acac-659a7156adac"
      },
      "source": [
        "По умолчанию, все тензоры хранят свою вычислительную \"историю\" и поддерживают вычисление градиентов. Но это поведение часто необязательно. Например, когда нам нужны константные параметры, или когда параметры модели соптимизированы, и нам интересен лишь прямой (forward) проход."
      ]
    },
    {
      "cell_type": "code",
      "execution_count": null,
      "id": "2943cae3-120b-49e5-a353-0870a812353a",
      "metadata": {
        "id": "2943cae3-120b-49e5-a353-0870a812353a"
      },
      "outputs": [],
      "source": [
        "z = torch.matmul(x, w) + b\n",
        "print(z.requires_grad)\n",
        "\n",
        "with torch.no_grad():\n",
        "    z = torch.matmul(x, w) + b\n",
        "print(z.requires_grad)\n",
        "\n",
        "z = torch.matmul(x, w) + b\n",
        "z_det = z.detach()\n",
        "print(z_det.requires_grad)"
      ]
    },
    {
      "cell_type": "markdown",
      "id": "d816934d-c9f6-4e73-b571-f3b9bba80453",
      "metadata": {
        "id": "d816934d-c9f6-4e73-b571-f3b9bba80453"
      },
      "source": [
        "DAGи (i want to apologize) в pytorch динамические. Каждый раз после вызова метода backward, autograd воссоздает DAG с нуля. Это именно то, что позволяет вставлять все эти ifы и циклы в моделях! При необходимости можно изменять shape, size и используемые операции на каждой итерации."
      ]
    },
    {
      "cell_type": "markdown",
      "id": "7fca872a-0108-428d-9b69-19574b113142",
      "metadata": {
        "id": "7fca872a-0108-428d-9b69-19574b113142"
      },
      "source": [
        "Подробное описание в документации: https://pytorch.org/docs/stable/notes/autograd.html"
      ]
    },
    {
      "cell_type": "code",
      "execution_count": null,
      "id": "5e4b08c0-2cfa-4b27-9171-61a0181b580b",
      "metadata": {
        "id": "5e4b08c0-2cfa-4b27-9171-61a0181b580b"
      },
      "outputs": [],
      "source": []
    }
  ],
  "metadata": {
    "kernelspec": {
      "display_name": "Python 3",
      "name": "python3"
    },
    "language_info": {
      "codemirror_mode": {
        "name": "ipython",
        "version": 3
      },
      "file_extension": ".py",
      "mimetype": "text/x-python",
      "name": "python",
      "nbconvert_exporter": "python",
      "pygments_lexer": "ipython3",
      "version": "3.10.10"
    },
    "colab": {
      "provenance": [],
      "gpuType": "T4"
    },
    "accelerator": "GPU"
  },
  "nbformat": 4,
  "nbformat_minor": 5
}